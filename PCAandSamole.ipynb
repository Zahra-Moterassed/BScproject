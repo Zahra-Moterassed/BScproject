{
 "cells": [
  {
   "cell_type": "code",
   "execution_count": 23,
   "metadata": {},
   "outputs": [],
   "source": [
    "import numpy as np\n",
    "from sklearn.decomposition import PCA\n",
    "from pyod.models.knn import KNN\n",
    "import pandas as pd\n",
    "from scipy.stats import mode\n",
    "from sklearn.metrics import precision_score, recall_score, roc_auc_score\n",
    "\n",
    "def calculate_knn_outlier_scores(data, n_samples=5, sample_fraction=0.8, n_components=2, n_neighbors=5, contamination=0.1):\n",
    "    \"\"\"\n",
    "    Performs outlier detection using PCA and KNN with voting mechanism, returning final labels and scores.\n",
    "    \n",
    "    Parameters:\n",
    "        data (numpy.ndarray): The input dataset.\n",
    "        n_samples (int): Number of random samples to generate.\n",
    "        sample_fraction (float): Fraction of the data to include in each sample.\n",
    "        n_components (int): Number of PCA components.\n",
    "        n_neighbors (int): Number of neighbors for KNN.\n",
    "        contamination (float): Contamination level for KNN.\n",
    "    \n",
    "    Returns:\n",
    "        numpy.ndarray: A binary array indicating whether each data point is an outlier (1) or not (0).\n",
    "        numpy.ndarray: Average outlier scores for each data point.\n",
    "    \"\"\"\n",
    "    n_data_points = data.shape[0]\n",
    "    sample_size = int(n_data_points * sample_fraction)\n",
    "    all_labels = np.zeros((n_samples, n_data_points), dtype=int)\n",
    "    all_scores = np.zeros((n_samples, n_data_points), dtype=float)\n",
    "    \n",
    "    for i in range(n_samples):\n",
    "        # Step 1: Random sampling\n",
    "        sampled_indices = np.random.choice(n_data_points, sample_size, replace=False)\n",
    "        sampled_data = data[sampled_indices]\n",
    "        \n",
    "        # Step 2: PCA transformation\n",
    "        pca = PCA(n_components=n_components)\n",
    "        reduced_data = pca.fit_transform(sampled_data)\n",
    "        \n",
    "        # Step 3: KNN outlier detection\n",
    "        knn = KNN(n_neighbors=n_neighbors, contamination=contamination)\n",
    "        knn.fit(reduced_data)\n",
    "        \n",
    "        # Assign outlier labels and scores to the full dataset\n",
    "        full_reduced_data = pca.transform(data)\n",
    "        labels = knn.predict(full_reduced_data)\n",
    "        scores = knn.decision_function(full_reduced_data)  # Outlier scores\n",
    "        \n",
    "        all_labels[i] = labels\n",
    "        all_scores[i] = scores\n",
    "    \n",
    "    # Step 4: Voting mechanism\n",
    "    final_labels = mode(all_labels, axis=0)[0].flatten()\n",
    "    average_scores = all_scores.mean(axis=0)\n",
    "    \n",
    "    return final_labels, average_scores\n",
    "\n",
    "def evaluate_knn_outlier_detection(y_true, y_pred, y_scores):\n",
    "    \"\"\"\n",
    "    Evaluates outlier detection performance using Precision, Recall, and AUC.\n",
    "    \n",
    "    Parameters:\n",
    "        y_true (numpy.ndarray): Ground truth (0 for inliers, 1 for outliers).\n",
    "        y_pred (numpy.ndarray): Predicted labels (0 for inliers, 1 for outliers).\n",
    "        y_scores (numpy.ndarray): Outlier scores for each data point.\n",
    "    \n",
    "    Returns:\n",
    "        dict: A dictionary containing Precision, Recall, and AUC scores.\n",
    "    \"\"\"\n",
    "    precision = precision_score(y_true, y_pred)\n",
    "    recall = recall_score(y_true, y_pred)\n",
    "    auc = roc_auc_score(y_true, y_scores)\n",
    "    return  precision, recall, auc\n",
    "\n"
   ]
  },
  {
   "cell_type": "code",
   "execution_count": 25,
   "metadata": {},
   "outputs": [
    {
     "name": "stdout",
     "output_type": "stream",
     "text": [
      "Precision: 0.0\n",
      "Recall: 0.0\n",
      "AUC: 0.5224979038877366\n"
     ]
    },
    {
     "name": "stderr",
     "output_type": "stream",
     "text": [
      "C:\\Users\\asus\\AppData\\Local\\Temp\\ipykernel_6724\\3713345014.py:51: FutureWarning: Unlike other reduction functions (e.g. `skew`, `kurtosis`), the default behavior of `mode` typically preserves the axis it acts along. In SciPy 1.11.0, this behavior will change: the default value of `keepdims` will become False, the `axis` over which the statistic is taken will be eliminated, and the value None will no longer be accepted. Set `keepdims` to True or False to avoid this warning.\n",
      "  final_labels = mode(all_labels, axis=0)[0].flatten()\n"
     ]
    }
   ],
   "source": [
    "# KNN\n",
    "# dataset: Annthyroid_norm_02_v01.csv\n",
    "\n",
    "file_path = \"G:\\\\Nazanin\\\\B project\\\\code\\\\dataset\\\\Annthyroid\\\\Annthyroid_norm_02_v01.csv\"\n",
    "# Load the CSV file into a Pandas DataFrame\n",
    "df = pd.read_csv(file_path)\n",
    "    \n",
    "    # Separate data (all columns except the last)\n",
    "data = df.iloc[:, :-1].values\n",
    "    \n",
    "    # Separate labels (last column)\n",
    "labels = df.iloc[:, -1].values\n",
    "\n",
    "\n",
    "predicted_labels, outlier_scores = calculate_knn_outlier_scores(data, n_samples=5, sample_fraction=0.8, n_components=2, n_neighbors=5, contamination=0.1)\n",
    "\n",
    "# Evaluate the outlier detection performance\n",
    "precision, recall, auc = evaluate_knn_outlier_detection(labels, predicted_labels, outlier_scores)\n",
    "\n",
    "print(\"Precision:\", precision)\n",
    "print(\"Recall:\", recall)\n",
    "print(\"AUC:\", auc)\n"
   ]
  },
  {
   "cell_type": "code",
   "execution_count": 31,
   "metadata": {},
   "outputs": [
    {
     "name": "stdout",
     "output_type": "stream",
     "text": [
      "Precision: 0.0\n",
      "Recall: 0.0\n",
      "AUC: 0.685792349726776\n"
     ]
    },
    {
     "name": "stderr",
     "output_type": "stream",
     "text": [
      "C:\\Users\\asus\\AppData\\Local\\Temp\\ipykernel_6724\\3713345014.py:51: FutureWarning: Unlike other reduction functions (e.g. `skew`, `kurtosis`), the default behavior of `mode` typically preserves the axis it acts along. In SciPy 1.11.0, this behavior will change: the default value of `keepdims` will become False, the `axis` over which the statistic is taken will be eliminated, and the value None will no longer be accepted. Set `keepdims` to True or False to avoid this warning.\n",
      "  final_labels = mode(all_labels, axis=0)[0].flatten()\n"
     ]
    }
   ],
   "source": [
    "# KNN\n",
    "# dataset: Arrhythmia_withoutdupl_norm_02_v01.csv\n",
    "\n",
    "file_path = \"G:\\\\Nazanin\\\\B project\\\\code\\\\dataset\\\\Arrhythmia\\\\Arrhythmia_withoutdupl_norm_02_v01.csv\"\n",
    "# Load the CSV file into a Pandas DataFrame\n",
    "df = pd.read_csv(file_path)\n",
    "    \n",
    "    # Separate data (all columns except the last)\n",
    "data = df.iloc[:, :-1].values\n",
    "    \n",
    "    # Separate labels (last column)\n",
    "labels = df.iloc[:, -1].values\n",
    "\n",
    "\n",
    "predicted_labels, outlier_scores = calculate_knn_outlier_scores(data, n_samples=5, sample_fraction=0.8, n_components=2, n_neighbors=5, contamination=0.1)\n",
    "\n",
    "# Evaluate the outlier detection performance\n",
    "precision, recall, auc = evaluate_knn_outlier_detection(labels, predicted_labels, outlier_scores)\n",
    "\n",
    "print(\"Precision:\", precision)\n",
    "print(\"Recall:\", recall)\n",
    "print(\"AUC:\", auc)\n"
   ]
  },
  {
   "cell_type": "code",
   "execution_count": 33,
   "metadata": {},
   "outputs": [
    {
     "name": "stdout",
     "output_type": "stream",
     "text": [
      "Precision: 0.3188405797101449\n",
      "Recall: 0.6875\n",
      "AUC: 0.9643504531722055\n"
     ]
    },
    {
     "name": "stderr",
     "output_type": "stream",
     "text": [
      "C:\\Users\\asus\\AppData\\Local\\Temp\\ipykernel_6724\\3713345014.py:51: FutureWarning: Unlike other reduction functions (e.g. `skew`, `kurtosis`), the default behavior of `mode` typically preserves the axis it acts along. In SciPy 1.11.0, this behavior will change: the default value of `keepdims` will become False, the `axis` over which the statistic is taken will be eliminated, and the value None will no longer be accepted. Set `keepdims` to True or False to avoid this warning.\n",
      "  final_labels = mode(all_labels, axis=0)[0].flatten()\n"
     ]
    }
   ],
   "source": [
    "# KNN\n",
    "# dataset: Cardiotocography_norm_02_v01.csv\n",
    "\n",
    "file_path = \"G:\\\\Nazanin\\\\B project\\\\code\\\\dataset\\\\Cardiotocography\\\\Cardiotocography_norm_02_v01.csv\"\n",
    "# Load the CSV file into a Pandas DataFrame\n",
    "df = pd.read_csv(file_path)\n",
    "\n",
    "# Separate data (all columns except the last)\n",
    "data = df.iloc[:, :-1].values\n",
    "    \n",
    "    # Separate labels (last column)\n",
    "labels = df.iloc[:, -1].values\n",
    "\n",
    "\n",
    "predicted_labels, outlier_scores = calculate_knn_outlier_scores(data, n_samples=5, sample_fraction=0.8, n_components=2, n_neighbors=5, contamination=0.1)\n",
    "\n",
    "# Evaluate the outlier detection performance\n",
    "precision, recall, auc = evaluate_knn_outlier_detection(labels, predicted_labels, outlier_scores)\n",
    "\n",
    "print(\"Precision:\", precision)\n",
    "print(\"Recall:\", recall)\n",
    "print(\"AUC:\", auc)\n",
    "\n"
   ]
  },
  {
   "cell_type": "code",
   "execution_count": 34,
   "metadata": {},
   "outputs": [
    {
     "name": "stdout",
     "output_type": "stream",
     "text": [
      "Precision: 0.0\n",
      "Recall: 0.0\n",
      "AUC: 0.3833333333333333\n"
     ]
    },
    {
     "name": "stderr",
     "output_type": "stream",
     "text": [
      "C:\\Users\\asus\\AppData\\Local\\Temp\\ipykernel_6724\\3713345014.py:51: FutureWarning: Unlike other reduction functions (e.g. `skew`, `kurtosis`), the default behavior of `mode` typically preserves the axis it acts along. In SciPy 1.11.0, this behavior will change: the default value of `keepdims` will become False, the `axis` over which the statistic is taken will be eliminated, and the value None will no longer be accepted. Set `keepdims` to True or False to avoid this warning.\n",
      "  final_labels = mode(all_labels, axis=0)[0].flatten()\n"
     ]
    }
   ],
   "source": [
    "# KNN\n",
    "# dataset: HeartDisease_withoutdupl_norm_02_v01.csv\n",
    "\n",
    "file_path = \"G:\\\\Nazanin\\\\B project\\\\code\\\\dataset\\\\HeartDisease\\\\HeartDisease_withoutdupl_norm_02_v01.csv\"\n",
    "# Load the CSV file into a Pandas DataFrame\n",
    "df = pd.read_csv(file_path)\n",
    "\n",
    "# Separate data (all columns except the last)\n",
    "data = df.iloc[:, :-1].values\n",
    "    \n",
    "    # Separate labels (last column)\n",
    "labels = df.iloc[:, -1].values\n",
    "\n",
    "\n",
    "predicted_labels, outlier_scores = calculate_knn_outlier_scores(data, n_samples=5, sample_fraction=0.8, n_components=2, n_neighbors=5, contamination=0.1)\n",
    "\n",
    "# Evaluate the outlier detection performance\n",
    "precision, recall, auc = evaluate_knn_outlier_detection(labels, predicted_labels, outlier_scores)\n",
    "\n",
    "print(\"Precision:\", precision)\n",
    "print(\"Recall:\", recall)\n",
    "print(\"AUC:\", auc)\n"
   ]
  },
  {
   "cell_type": "code",
   "execution_count": 35,
   "metadata": {},
   "outputs": [
    {
     "name": "stdout",
     "output_type": "stream",
     "text": [
      "Precision: 0.0\n",
      "Recall: 0.0\n",
      "AUC: 0.6464646464646465\n"
     ]
    },
    {
     "name": "stderr",
     "output_type": "stream",
     "text": [
      "C:\\Users\\asus\\AppData\\Local\\Temp\\ipykernel_6724\\3713345014.py:51: FutureWarning: Unlike other reduction functions (e.g. `skew`, `kurtosis`), the default behavior of `mode` typically preserves the axis it acts along. In SciPy 1.11.0, this behavior will change: the default value of `keepdims` will become False, the `axis` over which the statistic is taken will be eliminated, and the value None will no longer be accepted. Set `keepdims` to True or False to avoid this warning.\n",
      "  final_labels = mode(all_labels, axis=0)[0].flatten()\n"
     ]
    }
   ],
   "source": [
    "# KNN\n",
    "# dataset: Hepatitis_withoutdupl_norm_05_v01.csv\n",
    "\n",
    "file_path = \"G:\\\\Nazanin\\\\B project\\\\code\\\\dataset\\\\Hepatitis\\\\Hepatitis_withoutdupl_norm_05_v01.csv\"\n",
    "# Load the CSV file into a Pandas DataFrame\n",
    "df = pd.read_csv(file_path)\n",
    "\n",
    "# Separate data (all columns except the last)\n",
    "data = df.iloc[:, :-1].values\n",
    "    \n",
    "    # Separate labels (last column)\n",
    "labels = df.iloc[:, -1].values\n",
    "\n",
    "\n",
    "predicted_labels, outlier_scores = calculate_knn_outlier_scores(data, n_samples=5, sample_fraction=0.8, n_components=2, n_neighbors=5, contamination=0.1)\n",
    "\n",
    "# Evaluate the outlier detection performance\n",
    "precision, recall, auc = evaluate_knn_outlier_detection(labels, predicted_labels, outlier_scores)\n",
    "\n",
    "print(\"Precision:\", precision)\n",
    "print(\"Recall:\", recall)\n",
    "print(\"AUC:\", auc)\n"
   ]
  },
  {
   "cell_type": "code",
   "execution_count": 36,
   "metadata": {},
   "outputs": [
    {
     "name": "stdout",
     "output_type": "stream",
     "text": [
      "Precision: 0.0\n",
      "Recall: 0.0\n",
      "AUC: 0.6548463356973995\n"
     ]
    },
    {
     "name": "stderr",
     "output_type": "stream",
     "text": [
      "C:\\Users\\asus\\AppData\\Local\\Temp\\ipykernel_6724\\3713345014.py:51: FutureWarning: Unlike other reduction functions (e.g. `skew`, `kurtosis`), the default behavior of `mode` typically preserves the axis it acts along. In SciPy 1.11.0, this behavior will change: the default value of `keepdims` will become False, the `axis` over which the statistic is taken will be eliminated, and the value None will no longer be accepted. Set `keepdims` to True or False to avoid this warning.\n",
      "  final_labels = mode(all_labels, axis=0)[0].flatten()\n"
     ]
    }
   ],
   "source": [
    "# KNN\n",
    "# dataset: Lymphography_withoutdupl_norm_1ofn.csv\n",
    "\n",
    "file_path = \"G:\\\\Nazanin\\\\B project\\\\code\\\\dataset\\\\Lymphography\\\\Lymphography_withoutdupl_norm_1ofn.csv\"\n",
    "# Load the CSV file into a Pandas DataFrame\n",
    "df = pd.read_csv(file_path)\n",
    "\n",
    "# Separate data (all columns except the last)\n",
    "data = df.iloc[:, :-2].values\n",
    "    \n",
    "    # Separate labels (last column)\n",
    "labels = df.iloc[:, -2].values\n",
    "\n",
    "\n",
    "predicted_labels, outlier_scores = calculate_knn_outlier_scores(data, n_samples=5, sample_fraction=0.8, n_components=2, n_neighbors=5, contamination=0.1)\n",
    "\n",
    "# Evaluate the outlier detection performance\n",
    "precision, recall, auc = evaluate_knn_outlier_detection(labels, predicted_labels, outlier_scores)\n",
    "\n",
    "print(\"Precision:\", precision)\n",
    "print(\"Recall:\", recall)\n",
    "print(\"AUC:\", auc)\n"
   ]
  },
  {
   "cell_type": "code",
   "execution_count": 38,
   "metadata": {},
   "outputs": [
    {
     "name": "stdout",
     "output_type": "stream",
     "text": [
      "Precision: 1.0\n",
      "Recall: 1.0\n",
      "AUC: 1.0\n"
     ]
    },
    {
     "name": "stderr",
     "output_type": "stream",
     "text": [
      "C:\\Users\\asus\\AppData\\Local\\Temp\\ipykernel_6724\\3713345014.py:51: FutureWarning: Unlike other reduction functions (e.g. `skew`, `kurtosis`), the default behavior of `mode` typically preserves the axis it acts along. In SciPy 1.11.0, this behavior will change: the default value of `keepdims` will become False, the `axis` over which the statistic is taken will be eliminated, and the value None will no longer be accepted. Set `keepdims` to True or False to avoid this warning.\n",
      "  final_labels = mode(all_labels, axis=0)[0].flatten()\n"
     ]
    }
   ],
   "source": [
    "# KNN\n",
    "# dataset: Parkinson_withoutdupl_norm_05_v01.csv\n",
    "\n",
    "file_path = \"G:\\\\Nazanin\\\\B project\\\\code\\\\dataset\\\\Parkinson\\\\Parkinson_withoutdupl_norm_05_v01.csv\"\n",
    "# Load the CSV file into a Pandas DataFrame\n",
    "df = pd.read_csv(file_path)\n",
    "\n",
    "# Separate data (all columns except the last)\n",
    "data = df.iloc[:, :-1].values\n",
    "    \n",
    "    # Separate labels (last column)\n",
    "labels = df.iloc[:, -1].values\n",
    "\n",
    "\n",
    "predicted_labels, outlier_scores = calculate_knn_outlier_scores(data, n_samples=5, sample_fraction=0.8, n_components=2, n_neighbors=5, contamination=0.1)\n",
    "\n",
    "# Evaluate the outlier detection performance\n",
    "precision, recall, auc = evaluate_knn_outlier_detection(labels, predicted_labels, outlier_scores)\n",
    "\n",
    "print(\"Precision:\", precision)\n",
    "print(\"Recall:\", recall)\n",
    "print(\"AUC:\", auc)\n"
   ]
  },
  {
   "cell_type": "code",
   "execution_count": 39,
   "metadata": {},
   "outputs": [
    {
     "name": "stdout",
     "output_type": "stream",
     "text": [
      "Precision: 0.0\n",
      "Recall: 0.0\n",
      "AUC: 0.5708888888888889\n"
     ]
    },
    {
     "name": "stderr",
     "output_type": "stream",
     "text": [
      "C:\\Users\\asus\\AppData\\Local\\Temp\\ipykernel_6724\\3713345014.py:51: FutureWarning: Unlike other reduction functions (e.g. `skew`, `kurtosis`), the default behavior of `mode` typically preserves the axis it acts along. In SciPy 1.11.0, this behavior will change: the default value of `keepdims` will become False, the `axis` over which the statistic is taken will be eliminated, and the value None will no longer be accepted. Set `keepdims` to True or False to avoid this warning.\n",
      "  final_labels = mode(all_labels, axis=0)[0].flatten()\n"
     ]
    }
   ],
   "source": [
    "# KNN\n",
    "# dataset: Pima_withoutdupl_norm_02_v01.csv\n",
    "\n",
    "file_path = \"G:\\\\Nazanin\\\\B project\\\\code\\\\dataset\\\\Pima\\\\Pima_withoutdupl_norm_02_v01.csv\"\n",
    "# Load the CSV file into a Pandas DataFrame\n",
    "df = pd.read_csv(file_path)\n",
    "\n",
    "# Separate data (all columns except the last)\n",
    "data = df.iloc[:, :-1].values\n",
    "    \n",
    "    # Separate labels (last column)\n",
    "labels = df.iloc[:, -1].values\n",
    "\n",
    "\n",
    "predicted_labels, outlier_scores = calculate_knn_outlier_scores(data, n_samples=5, sample_fraction=0.8, n_components=2, n_neighbors=5, contamination=0.1)\n",
    "\n",
    "# Evaluate the outlier detection performance\n",
    "precision, recall, auc = evaluate_knn_outlier_detection(labels, predicted_labels, outlier_scores)\n",
    "\n",
    "print(\"Precision:\", precision)\n",
    "print(\"Recall:\", recall)\n",
    "print(\"AUC:\", auc)\n"
   ]
  }
 ],
 "metadata": {
  "interpreter": {
   "hash": "b667cebad148e7b094a58ee81f940c685de1dd70a003a9ccdca4a5792431bee5"
  },
  "kernelspec": {
   "display_name": "Python 3.9.16 64-bit",
   "language": "python",
   "name": "python3"
  },
  "language_info": {
   "codemirror_mode": {
    "name": "ipython",
    "version": 3
   },
   "file_extension": ".py",
   "mimetype": "text/x-python",
   "name": "python",
   "nbconvert_exporter": "python",
   "pygments_lexer": "ipython3",
   "version": "3.9.16"
  },
  "orig_nbformat": 4
 },
 "nbformat": 4,
 "nbformat_minor": 2
}
